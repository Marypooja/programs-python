{
 "cells": [
  {
   "cell_type": "code",
   "execution_count": 1,
   "metadata": {},
   "outputs": [
    {
     "name": "stdout",
     "output_type": "stream",
     "text": [
      "positive\n"
     ]
    }
   ],
   "source": [
    "# control statements\n",
    "#1.wap to check wheather a number is positive .if posititve print message positive\n",
    "n=2\n",
    "if 0<=n:\n",
    "    print(\"positive\")"
   ]
  },
  {
   "cell_type": "code",
   "execution_count": 31,
   "metadata": {},
   "outputs": [
    {
     "name": "stdout",
     "output_type": "stream",
     "text": [
      "hello world\n"
     ]
    }
   ],
   "source": [
    "#2.wap to display helloworld if the number is greater then 1 and less than 5\n",
    "n=3\n",
    "if 1<n<5:\n",
    "   print (\"hello world\")\n",
    "       "
   ]
  },
  {
   "cell_type": "code",
   "execution_count": 29,
   "metadata": {},
   "outputs": [
    {
     "name": "stdout",
     "output_type": "stream",
     "text": [
      "fizz\n"
     ]
    }
   ],
   "source": [
    "#3.wap to check wheather the given number is divisible by 3 or not if print fizz\n",
    "n=36\n",
    "if n%3==0:\n",
    "    print(\"fizz\")"
   ]
  },
  {
   "cell_type": "code",
   "execution_count": 5,
   "metadata": {},
   "outputs": [
    {
     "name": "stdout",
     "output_type": "stream",
     "text": [
      "(54+0j)\n"
     ]
    }
   ],
   "source": [
    "#4.wap no check wheather given input is divisible by 2 and 6 if the \n",
    "n=54\n",
    "if n%2==0 and n%6==0:\n",
    "    print(complex(n))"
   ]
  },
  {
   "cell_type": "code",
   "execution_count": 6,
   "metadata": {},
   "outputs": [
    {
     "name": "stdout",
     "output_type": "stream",
     "text": [
      "['3', '0']\n"
     ]
    }
   ],
   "source": [
    "#5.wap to check wheather given input is divisible by 3 or 5\n",
    "n=30\n",
    "if n%3==0 and n%5==0:\n",
    "    print(list(str(n)))"
   ]
  },
  {
   "cell_type": "code",
   "execution_count": 7,
   "metadata": {},
   "outputs": [
    {
     "name": "stdout",
     "output_type": "stream",
     "text": [
      "60is multiple of 5\n"
     ]
    }
   ],
   "source": [
    "#6.wap to check wheather a given program number is multipe 5 or not\n",
    "n=60\n",
    "if n%5==0:\n",
    "    print(f\"{n}is multiple of 5\")"
   ]
  },
  {
   "cell_type": "code",
   "execution_count": 2,
   "metadata": {},
   "outputs": [
    {
     "name": "stdout",
     "output_type": "stream",
     "text": [
      "0\n"
     ]
    }
   ],
   "source": [
    "#7.WAP to check whether the given input is 0 or not if 0 prints 0.\n",
    "n=0\n",
    "if n==0:\n",
    "    print(\"0\")"
   ]
  },
  {
   "cell_type": "code",
   "execution_count": 9,
   "metadata": {},
   "outputs": [
    {
     "name": "stdout",
     "output_type": "stream",
     "text": [
      "negitive\n"
     ]
    }
   ],
   "source": [
    "#8.wap to check wheather a number is negititve\n",
    "n=-40\n",
    "if n<=0:\n",
    "    print(\"negitive\")"
   ]
  },
  {
   "cell_type": "code",
   "execution_count": 10,
   "metadata": {},
   "outputs": [
    {
     "name": "stdout",
     "output_type": "stream",
     "text": [
      "[120]\n"
     ]
    }
   ],
   "source": [
    "#9.wap to check wheather a number is even o not\n",
    "n=120\n",
    "if n%2==0:\n",
    "    x=[n]\n",
    "    print(x)"
   ]
  },
  {
   "cell_type": "code",
   "execution_count": 13,
   "metadata": {},
   "outputs": [
    {
     "name": "stdout",
     "output_type": "stream",
     "text": [
      "(37,)\n"
     ]
    }
   ],
   "source": [
    "#8.wap to check wheather number is odd or not\n",
    "n=37\n",
    "if n%2!=0:\n",
    "    \n",
    "    print((n,))"
   ]
  },
  {
   "cell_type": "code",
   "execution_count": 18,
   "metadata": {},
   "outputs": [
    {
     "data": {
      "text/plain": [
       "256"
      ]
     },
     "execution_count": 18,
     "metadata": {},
     "output_type": "execute_result"
    }
   ],
   "source": [
    "#9.wap to check if the given number is even or not\n",
    "n=4\n",
    "if n%2==0:\n",
    "    print\n",
    "(4**4)"
   ]
  },
  {
   "cell_type": "code",
   "execution_count": 3,
   "metadata": {},
   "outputs": [
    {
     "name": "stdout",
     "output_type": "stream",
     "text": [
      "60\n"
     ]
    }
   ],
   "source": [
    "#10.WAP to check whether a number is odd or not. If odd, store the value inside the tuple.\n",
    "n=55\n",
    "if \"0<=n<=9\":\n",
    "    print (n+5)"
   ]
  },
  {
   "cell_type": "code",
   "execution_count": 4,
   "metadata": {},
   "outputs": [
    {
     "name": "stdout",
     "output_type": "stream",
     "text": [
      "1296\n"
     ]
    }
   ],
   "source": [
    "#11.WAP to check if the given number is even or not. if it is yes, to print the power of 4 in a given number.\n",
    "a=6\n",
    "if(a%2==0):\n",
    "    print(a**4)"
   ]
  },
  {
   "cell_type": "code",
   "execution_count": 6,
   "metadata": {},
   "outputs": [
    {
     "name": "stdout",
     "output_type": "stream",
     "text": [
      "19\n"
     ]
    }
   ],
   "source": [
    "#12.WAP to take the input from the user as a number and check whether it is a number or not. if yes. take the number and add some value and print it.\n",
    "a=10\n",
    "if(a>9):\n",
    "    print(a+9)"
   ]
  },
  {
   "cell_type": "code",
   "execution_count": 13,
   "metadata": {},
   "outputs": [
    {
     "name": "stdout",
     "output_type": "stream",
     "text": [
      "hello world\n"
     ]
    }
   ],
   "source": [
    "#13.WAP to display hello world if the number is greater than 1 and lesser than 5\n",
    "n=4\n",
    "if 1<n<5:\n",
    "    print(\"hello world\")\n"
   ]
  },
  {
   "cell_type": "code",
   "execution_count": 20,
   "metadata": {},
   "outputs": [
    {
     "name": "stdout",
     "output_type": "stream",
     "text": [
      "35\n",
      "1225\n"
     ]
    }
   ],
   "source": [
    "#14.WAP to check whether a given value is divisible by 5 and 7. If the value is divisible,to display the square of the values.\n",
    "a=35\n",
    "if(a%5==0 and a%7==0):\n",
    "    print(5*7)\n",
    "    #or\n",
    "    a=35\n",
    "if(a%5==0 and a%7==0):\n",
    "    print(a*a)"
   ]
  },
  {
   "cell_type": "code",
   "execution_count": 21,
   "metadata": {},
   "outputs": [
    {
     "name": "stdout",
     "output_type": "stream",
     "text": [
      "2\n"
     ]
    }
   ],
   "source": [
    "##15.WAP to check whether the given value's last digit is greater than 5 or not.if greater, to perform the bitwise right shift operator (skipping value is 2)\n",
    "n=128\n",
    "x=n%10\n",
    "if x>5:\n",
    "    print (x>>2)"
   ]
  },
  {
   "cell_type": "code",
   "execution_count": 22,
   "metadata": {},
   "outputs": [
    {
     "name": "stdout",
     "output_type": "stream",
     "text": [
      "324\n"
     ]
    }
   ],
   "source": [
    "#16.WAP to check whether a given value is divisible by 3 and less than 30. If the value is divisible,to display the square of the values\n",
    "n=18\n",
    "x=n%3\n",
    "if x<30:\n",
    "    print(n**2)"
   ]
  },
  {
   "cell_type": "code",
   "execution_count": 24,
   "metadata": {},
   "outputs": [
    {
     "name": "stdout",
     "output_type": "stream",
     "text": [
      "4096\n"
     ]
    }
   ],
   "source": [
    " #17.wAP to check whether a given value is an even number and divisible by 4. If satisfied ,to display the cube of the values.\n",
    "\n",
    "\n",
    "n=16\n",
    "if n%4==0:\n",
    "    print(n**3)"
   ]
  },
  {
   "cell_type": "code",
   "execution_count": 25,
   "metadata": {},
   "outputs": [
    {
     "name": "stdout",
     "output_type": "stream",
     "text": [
      "[42]\n"
     ]
    }
   ],
   "source": [
    "#18.WAP to check whether a given value is even or not. If the even number stores the value inside the list.\n",
    "\n",
    "n=42\n",
    "if n%2==0:\n",
    "    print([n])"
   ]
  },
  {
   "cell_type": "code",
   "execution_count": 26,
   "metadata": {},
   "outputs": [
    {
     "name": "stdout",
     "output_type": "stream",
     "text": [
      "5\n"
     ]
    }
   ],
   "source": [
    "#18.WAP to check whether a given value is even or not. If the even number stores the value inside the list.\n",
    " \n",
    "n=-105\n",
    "if n<=0 or n%2==0:\n",
    "    x=(n%10)\n",
    "    print(x)"
   ]
  },
  {
   "cell_type": "code",
   "execution_count": 27,
   "metadata": {},
   "outputs": [
    {
     "name": "stdout",
     "output_type": "stream",
     "text": [
      "-4096\n"
     ]
    }
   ],
   "source": [
    "#20.WAP to check whether a given value is a negative or odd number and divisible\n",
    "\n",
    "n=-16\n",
    "if n<=0 or n%2!=0 and n%4==0:\n",
    "    print(n**3)"
   ]
  },
  {
   "cell_type": "code",
   "execution_count": 8,
   "metadata": {},
   "outputs": [
    {
     "name": "stdout",
     "output_type": "stream",
     "text": [
      "D\n"
     ]
    }
   ],
   "source": [
    "##21.WAP to check whether a given ascii value is divisible by 4 and even value. If satisfied, to display the ascii character.\n",
    "n=68\n",
    "if n%4==0 and n%2==0:\n",
    "    print(chr(n))\n"
   ]
  },
  {
   "cell_type": "code",
   "execution_count": 10,
   "metadata": {},
   "outputs": [
    {
     "name": "stdout",
     "output_type": "stream",
     "text": [
      "x\n",
      "<\n",
      "P\n",
      "d\n"
     ]
    }
   ],
   "source": [
    "#22.WAP to check whether a given value is present in between 45 to 125 and the number should be divisible by 4 and 5 and even value. If satisfied, to display the ascii character.\n",
    "a=120\n",
    "if(45<=a<125 and a%4==0 and a%5==0 and a%2==0):\n",
    "    print(chr(a))\n",
    "    #or\n",
    "    a=60\n",
    "if(45<=a<125 and a%4==0 and a%5==0 and a%2==0):\n",
    "    print(chr(a))\n",
    "    #or\n",
    "    a=80\n",
    "if(45<=a<125 and a%4==0 and a%5==0 and a%2==0):\n",
    "    print(chr(a))\n",
    "    #or\n",
    "    a=100\n",
    "if(45<=a<125 and a%4==0 and a%5==0 and a%2==0):\n",
    "    print(chr(a))"
   ]
  },
  {
   "cell_type": "code",
   "execution_count": 11,
   "metadata": {},
   "outputs": [
    {
     "name": "stdout",
     "output_type": "stream",
     "text": [
      "400\n"
     ]
    }
   ],
   "source": [
    "#23.WAP to check whether a given value is present in between 25 to 100 and the number should be divisible by 4 and 5. If satisfied, to display multiplication of given value with 5.\n",
    "\n",
    "n=80\n",
    "if n%4==0 and n%5==0 and 25<=n<=100:\n",
    "    print (n*5)"
   ]
  },
  {
   "cell_type": "code",
   "execution_count": 6,
   "metadata": {},
   "outputs": [
    {
     "name": "stdout",
     "output_type": "stream",
     "text": [
      "13.0\n"
     ]
    }
   ],
   "source": [
    "#24.wAP to check whether a given number is an integer and odd number. If the condition is satisfied, the integer is divisible by 5 and displays the result.\n",
    "a= 65\n",
    "if type(a)==int and a%2!=0:\n",
    "    print(a/5)\n"
   ]
  },
  {
   "cell_type": "code",
   "execution_count": 8,
   "metadata": {},
   "outputs": [
    {
     "name": "stdout",
     "output_type": "stream",
     "text": [
      "22\n"
     ]
    }
   ],
   "source": [
    "#25.wAP to check whether a given value is an integer or not. If integer, the given value is converted to string and displays the result.\n",
    "a = 22\n",
    "if type(a)==int:\n",
    "    print(str(a))"
   ]
  },
  {
   "cell_type": "code",
   "execution_count": 12,
   "metadata": {},
   "outputs": [
    {
     "name": "stdout",
     "output_type": "stream",
     "text": [
      "120\n",
      "m\n"
     ]
    }
   ],
   "source": [
    "\n",
    "#26.WAP to check whether a given value is less than 125 and greater than 60 or not. If the condition is satisfied, take the name and extract the middle character and display it.\n",
    "a=120\n",
    "b=\"amma\" \n",
    "if(60<=a<125):\n",
    "\n",
    "    print(a)\n",
    "    print(b [len(b)//2])\n"
   ]
  },
  {
   "cell_type": "code",
   "execution_count": 23,
   "metadata": {},
   "outputs": [
    {
     "name": "stdout",
     "output_type": "stream",
     "text": [
      "18\n"
     ]
    }
   ],
   "source": [
    "#27.WAP to check whether a given two integers are equal or not. If both are equal, to perform addition and display the result.\n",
    "a = 9\n",
    "b = 9\n",
    "if a==b:\n",
    "    print(a+b)"
   ]
  },
  {
   "cell_type": "code",
   "execution_count": 22,
   "metadata": {},
   "outputs": [
    {
     "name": "stdout",
     "output_type": "stream",
     "text": [
      "e\n"
     ]
    },
    {
     "name": "stdout",
     "output_type": "stream",
     "text": [
      "12.0\n"
     ]
    }
   ],
   "source": [
    "#28.wAP to check whether two values are equal or not. if equal, to perform multiplication of two numbers and that result is division by 3 and display the value.\n",
    "a = 6\n",
    "b = 6\n",
    "if a==b:\n",
    "    print((a*b)/3)"
   ]
  },
  {
   "cell_type": "code",
   "execution_count": 26,
   "metadata": {},
   "outputs": [
    {
     "name": "stdout",
     "output_type": "stream",
     "text": [
      "{'n': 110}\n"
     ]
    }
   ],
   "source": [
    "#29.wAP to check whether a character is in the alphabet or not. If the alphabet, store the value inside the dict(key as a character and value as an ascii value).\n",
    "ch = 'n'\n",
    "if 'a'<= ch <= 'z' or 'A'<= ch <= 'Z':\n",
    "    res = {ch:ord(ch)}\n",
    "    print(res)"
   ]
  },
  {
   "cell_type": "code",
   "execution_count": 29,
   "metadata": {},
   "outputs": [
    {
     "name": "stdout",
     "output_type": "stream",
     "text": [
      "{'C': 67}\n"
     ]
    }
   ],
   "source": [
    "#30WAP to check whether a character is in the uppercase or not. If the uppercase, store the value inside the dict(key as a character and value as an ascii value).\n",
    "ch = 'C'\n",
    "if 65<=ord(ch)<=90:\n",
    "    res = {ch:ord(ch)}\n",
    "    print(res)\n"
   ]
  },
  {
   "cell_type": "code",
   "execution_count": 30,
   "metadata": {},
   "outputs": [
    {
     "name": "stdout",
     "output_type": "stream",
     "text": [
      "{'b': 98}\n"
     ]
    }
   ],
   "source": [
    "#31.WAP to check whether a character is in the uppercase or not. If the uppercase, convert to lowercase and store the value inside the dict(character as a key and ascii value as a value).\n",
    "ch = 'B'\n",
    "if 65<=ord(ch)<=90:\n",
    "    lc = chr(ord(ch)+32)\n",
    "    res = {lc:ord(lc)}\n",
    "    print(res)"
   ]
  },
  {
   "cell_type": "code",
   "execution_count": 32,
   "metadata": {},
   "outputs": [
    {
     "name": "stdout",
     "output_type": "stream",
     "text": [
      "ddddddddd\n"
     ]
    }
   ],
   "source": [
    "#32.WAP to check whether a character is in the lowercase or not. If the lowercase, to perform the replication operation on that character\n",
    "ch = 'd'\n",
    "if 'a'<=ch<='z':\n",
    "    print(ch*9)"
   ]
  },
  {
   "cell_type": "code",
   "execution_count": 34,
   "metadata": {},
   "outputs": [
    {
     "name": "stdout",
     "output_type": "stream",
     "text": [
      "6 <class 'int'>\n"
     ]
    }
   ],
   "source": [
    "#33.WAP to check whether a character is in the ascii number or not. If the ascii number, to convert into integer.\n",
    "a = 54\n",
    "if 48<=a<=57:\n",
    "    res = int(chr(a))\n",
    "    print(res, type(res))\n"
   ]
  },
  {
   "cell_type": "code",
   "execution_count": 36,
   "metadata": {},
   "outputs": [
    {
     "name": "stdout",
     "output_type": "stream",
     "text": [
      "* 42\n"
     ]
    }
   ],
   "source": [
    "#34.WAP to check whether a character is in the special symbol or not. If the special symbol, to display a symbol with ascii value.\n",
    "ch = '*'\n",
    "if 0<=ord(ch)<=47 or 58<=ord(ch)<=64 or 91<=ord(ch)<=96 or 123<=ord(ch)<=127:\n",
    "    print(ch, ord(ch))\n"
   ]
  },
  {
   "cell_type": "code",
   "execution_count": 38,
   "metadata": {},
   "outputs": [
    {
     "name": "stdout",
     "output_type": "stream",
     "text": [
      "even number\n"
     ]
    }
   ],
   "source": [
    "#35.WAP to check whether a character is an even number or not. If the even number, display an even number.\n",
    "ch = 'b'\n",
    "if ord(ch)%2==0:\n",
    "    print('even number')"
   ]
  },
  {
   "cell_type": "code",
   "execution_count": 40,
   "metadata": {},
   "outputs": [
    {
     "name": "stdout",
     "output_type": "stream",
     "text": [
      "256\n"
     ]
    }
   ],
   "source": [
    "#36.WAP to check whether a Given two integers a and b, if any of the integers is 10 or if their sum is 10, to perform the sum of the numbers and to display the square of the result.\n",
    "a = 10\n",
    "b = 6\n",
    "if a==10 or b ==10 or (a+b)==10:\n",
    "    sum = a+b\n",
    "    print(sum**2)"
   ]
  },
  {
   "cell_type": "code",
   "execution_count": 41,
   "metadata": {},
   "outputs": [
    {
     "name": "stdout",
     "output_type": "stream",
     "text": [
      "j\n"
     ]
    }
   ],
   "source": [
    "#37.WAP to check whether a character is in the vowel or not. If the vowel,print the next character.\n",
    "ch = 'i'\n",
    "if ch in 'aeiouAEIOU':\n",
    "    print(chr(ord(ch)+1))"
   ]
  },
  {
   "cell_type": "code",
   "execution_count": 42,
   "metadata": {},
   "outputs": [
    {
     "name": "stdout",
     "output_type": "stream",
     "text": [
      "e\n"
     ]
    }
   ],
   "source": [
    "#38.WAP to check whether a character is in the not a vowel. If it's not a vowel,print the previous character.\n",
    "ch = 'f'\n",
    "if ch not in 'aeiouAEIOU':\n",
    "    print(chr(ord(ch)-1))"
   ]
  },
  {
   "cell_type": "code",
   "execution_count": 43,
   "metadata": {},
   "outputs": [
    {
     "name": "stdout",
     "output_type": "stream",
     "text": [
      "single value data type\n"
     ]
    }
   ],
   "source": [
    "#39.WAP to check whether a given value is a single value data type or not. If single value, display the given value as a single value data type.\n",
    "a = 20.06\n",
    "if type(a) in [int, float, bytes, complex, bool]:\n",
    "    print('single value data type')"
   ]
  },
  {
   "cell_type": "code",
   "execution_count": 44,
   "metadata": {},
   "outputs": [
    {
     "name": "stdout",
     "output_type": "stream",
     "text": [
      "('pooja',)\n"
     ]
    }
   ],
   "source": [
    "#40.WAP to check whether a given value is a multi-value data type or not. If multi value, store the given value inside the tuple and display it.\n",
    "v = 'pooja'\n",
    "t = ()\n",
    "if type(v) in [str, list, tuple, set, dict]:\n",
    "    t += (v,)\n",
    "    print(t)\n"
   ]
  },
  {
   "cell_type": "code",
   "execution_count": 45,
   "metadata": {},
   "outputs": [
    {
     "name": "stdout",
     "output_type": "stream",
     "text": [
      "{'ashok'}\n"
     ]
    }
   ],
   "source": [
    "#41.WAP to check whether a given value is an immutable data type or not. If an immutable data type value, store the given value inside the set and display it.\n",
    "v = 'ashok'\n",
    "s = set()\n",
    "if type(v) in [str, tuple]:\n",
    "    s |= {v}\n",
    "    print(s)"
   ]
  },
  {
   "cell_type": "code",
   "execution_count": 47,
   "metadata": {},
   "outputs": [
    {
     "name": "stdout",
     "output_type": "stream",
     "text": [
      "50\n"
     ]
    }
   ],
   "source": [
    "#42.WAP to check whether the middle element of a given list is odd or not. If it is odd then print odd then print the number else directly print the number\n",
    "l = [10, 20, 30, 40, 50, 60, 70, 80, 90]\n",
    "if l[len(l)//2]%2==1:\n",
    "    print('odd', l[len(l)//2])\n",
    "else:\n",
    "    print(l[len(l)//2])"
   ]
  },
  {
   "cell_type": "code",
   "execution_count": 49,
   "metadata": {},
   "outputs": [
    {
     "name": "stdout",
     "output_type": "stream",
     "text": [
      "not solved\n"
     ]
    }
   ],
   "source": [
    "#43.WAP Return a new string with \"not\" prefixed to the front of the original string. Return the string unmodified if the string already has the word \"not\" at the beginning.\n",
    "s = 'solved'\n",
    "if s[:3]=='not':\n",
    "    print(s)\n",
    "else:\n",
    "    print('not '+s)"
   ]
  },
  {
   "cell_type": "code",
   "execution_count": 51,
   "metadata": {},
   "outputs": [
    {
     "name": "stdout",
     "output_type": "stream",
     "text": [
      "pyspders\n"
     ]
    }
   ],
   "source": [
    "#44.WAP to check whether a given string(str) and one integer(n) value, to display a new string that is devoid of the character at index n. if you are given a non-empty string and an int n. The value of n will be a legitimate character index from the original string, therefore it will fall within the range of 0 to len(str)-1, inclusive.\n",
    "str = 'pyspiders'\n",
    "n = 4\n",
    "if len(str)>0 and 0<=n<=len(str)-1:\n",
    "    res = str[:n] + str[n+1:]\n",
    "    print(res)"
   ]
  },
  {
   "cell_type": "code",
   "execution_count": 53,
   "metadata": {},
   "outputs": [
    {
     "name": "stdout",
     "output_type": "stream",
     "text": [
      "140736348219048 140736348219048\n"
     ]
    }
   ],
   "source": [
    "#45.WAP to check whether the two variables are pointing to the same memory location or not if they are pointing to the same memory location then print the address of both the variables.\n",
    "a = 29\n",
    "b = 29\n",
    "if a is b:\n",
    "    print(id(a), id(b))\n"
   ]
  },
  {
   "cell_type": "code",
   "execution_count": 55,
   "metadata": {},
   "outputs": [
    {
     "name": "stdout",
     "output_type": "stream",
     "text": [
      "bhjklmbdg\n"
     ]
    }
   ],
   "source": [
    "#46.WAP to check whether the given length of the string is even or not. If the condition is satisfied, display the sequence of characters from zero position to length of collection -2.\n",
    "s = 'bhjklmbdgd'\n",
    "if len(s)%2==0:\n",
    "    print(s[:-1])"
   ]
  },
  {
   "cell_type": "code",
   "execution_count": 57,
   "metadata": {},
   "outputs": [
    {
     "name": "stdout",
     "output_type": "stream",
     "text": [
      "rethom mother\n"
     ]
    }
   ],
   "source": [
    "#47.WAP to check whether the two given strings are having the same values or not. If both are not the same values then swap the values of one variable to another variable after swapping print the two values.\n",
    "s1 = 'mother'\n",
    "s2 = 'rethom'\n",
    "if s1!=s2:\n",
    "    s1, s2 = s2, s1\n",
    "    print(s1, s2)"
   ]
  },
  {
   "cell_type": "code",
   "execution_count": 58,
   "metadata": {},
   "outputs": [
    {
     "name": "stdout",
     "output_type": "stream",
     "text": [
      "{'&': 38}\n"
     ]
    }
   ],
   "source": [
    "#48.WAP to check whether a given character is a special symbol or not. If satisfied, store the symbol as a key and value as a ascii value of the given character inside the dictionary.\n",
    "ch = '&'\n",
    "if 0<=ord(ch)<=47 or 58<=ord(ch)<=64 or 91<=ord(ch)<=96 or 123<=ord(ch)<=127:\n",
    "    res = {ch:ord(ch)}\n",
    "    print(res)"
   ]
  },
  {
   "cell_type": "code",
   "execution_count": 60,
   "metadata": {},
   "outputs": [
    {
     "name": "stdout",
     "output_type": "stream",
     "text": [
      "{'a': 10, 'b': 20, 'c': 30, 'd': 4}\n"
     ]
    }
   ],
   "source": [
    "#49.WAP to check whether a given key is not present in the dictionary or not. If the key is not present, append the new key inside the dictionary.\n",
    "d = {'a':10, 'b':20, 'c':30}\n",
    "if 'd' not in d:\n",
    "    d['d'] = 4\n",
    "    print(d)"
   ]
  },
  {
   "cell_type": "code",
   "execution_count": 70,
   "metadata": {},
   "outputs": [],
   "source": [
    "#50.WAP whether a given string, and it displays a new string with the first and last characters switched.\n",
    "s = 'pspiders'\n",
    "if type(s)==str:\n",
    "    res = s[-1] + s[1:-1] + s[0]\n",
    "    print(res)"
   ]
  },
  {
   "cell_type": "code",
   "execution_count": 72,
   "metadata": {},
   "outputs": [
    {
     "name": "stdout",
     "output_type": "stream",
     "text": [
      "2\n"
     ]
    }
   ],
   "source": [
    "#51.WAP to check whether the last digit should be 2 in the given number then print the last digit.\n",
    "a = 521542\n",
    "if a%10==2:\n",
    "    print(a%10)"
   ]
  },
  {
   "cell_type": "code",
   "execution_count": 73,
   "metadata": {},
   "outputs": [
    {
     "name": "stdout",
     "output_type": "stream",
     "text": [
      "2500\n"
     ]
    }
   ],
   "source": [
    "#52.WAP to check whether the given two integers a and b, if any of the integers is 10 or if their sum is 10, to perform the sum of the numbers and to display the square of the result.\n",
    "a = 10\n",
    "b = 40\n",
    "if a==10 or b==10 or a+b==10:\n",
    "    res = a+b\n",
    "    print(res**2)\n"
   ]
  },
  {
   "cell_type": "code",
   "execution_count": 75,
   "metadata": {},
   "outputs": [
    {
     "name": "stdout",
     "output_type": "stream",
     "text": [
      "pyspder\n"
     ]
    }
   ],
   "source": [
    "#53.WAP to check whether a given string(str) and one integer(n) value, to display a new string that is devoid of the character at index n. if you are given a non-empty string and an int n. The value of n will be a legitimate character index from the original string, therefore it will fall within the range of 0 to len(str)-1, inclusive.\n",
    "str = 'pyspider'\n",
    "n = 4\n",
    "if len(str)>0 and 0<=n<=len(str)-1:\n",
    "    res = str[:n] + str[n+1:]\n",
    "    print(res)"
   ]
  },
  {
   "cell_type": "code",
   "execution_count": 78,
   "metadata": {},
   "outputs": [
    {
     "name": "stdout",
     "output_type": "stream",
     "text": [
      "amma 4\n",
      "ammal 5\n"
     ]
    }
   ],
   "source": [
    "#54.WAP to check whether both string collections are equal or not if it is not equal print the both strings along with the length of a string if both are equal ignore it.\n",
    "s1 = 'amma'\n",
    "s2 = 'ammal'\n",
    "if s1!=s2:\n",
    "    print(s1, len(s1))\n",
    "    print(s2, len(s2))\n"
   ]
  }
 ],
 "metadata": {
  "kernelspec": {
   "display_name": "Python 3",
   "language": "python",
   "name": "python3"
  },
  "language_info": {
   "codemirror_mode": {
    "name": "ipython",
    "version": 3
   },
   "file_extension": ".py",
   "mimetype": "text/x-python",
   "name": "python",
   "nbconvert_exporter": "python",
   "pygments_lexer": "ipython3",
   "version": "3.11.4"
  },
  "orig_nbformat": 4
 },
 "nbformat": 4,
 "nbformat_minor": 2
}
