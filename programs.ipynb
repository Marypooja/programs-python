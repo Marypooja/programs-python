{
 "cells": [
  {
   "cell_type": "code",
   "execution_count": 1,
   "metadata": {},
   "outputs": [
    {
     "name": "stdout",
     "output_type": "stream",
     "text": [
      "Hello world\n"
     ]
    }
   ],
   "source": [
    "#1.write a statement (was)to print \"Hello world\"by using shell\n",
    "\"Hello world\"\n",
    "print(\"Hello world\")\n"
   ]
  },
  {
   "cell_type": "code",
   "execution_count": 2,
   "metadata": {},
   "outputs": [
    {
     "name": "stdout",
     "output_type": "stream",
     "text": [
      "Hello world\n"
     ]
    }
   ],
   "source": [
    "#2.write a statement to print \"Hello world\" by using python print function\"\n",
    "print(\"Hello world\")\n"
   ]
  },
  {
   "cell_type": "code",
   "execution_count": 9,
   "metadata": {},
   "outputs": [],
   "source": [
    "#3.was to initialize variable and values as 50\n",
    "a=50\n",
    "a=15.06\n",
    "a=10+4j\n",
    "a='b1010'\n",
    "a=True\n",
    "a=False\n",
    "a=\"hello\"\n",
    "a=[10,20,30]\n",
    "a=(10,20,30)\n",
    "a=10,20,30\n",
    "a={10,20,30}\n",
    "a={10:20,20:30}\n"
   ]
  },
  {
   "cell_type": "code",
   "execution_count": 22,
   "metadata": {},
   "outputs": [
    {
     "data": {
      "text/plain": [
       "120"
      ]
     },
     "execution_count": 22,
     "metadata": {},
     "output_type": "execute_result"
    }
   ],
   "source": [
    "#4.was to initialize multi variable values are 120,150,250\n",
    "a,b,c=120,150,250\n",
    "a"
   ]
  },
  {
   "cell_type": "code",
   "execution_count": 23,
   "metadata": {},
   "outputs": [
    {
     "data": {
      "text/plain": [
       "10"
      ]
     },
     "execution_count": 23,
     "metadata": {},
     "output_type": "execute_result"
    }
   ],
   "source": [
    "#5.was to print the type of the data in given values\n",
    "a=10\n",
    "type(a)\n",
    "a"
   ]
  },
  {
   "cell_type": "code",
   "execution_count": 25,
   "metadata": {},
   "outputs": [
    {
     "data": {
      "text/plain": [
       "{10, 20}"
      ]
     },
     "execution_count": 25,
     "metadata": {},
     "output_type": "execute_result"
    }
   ],
   "source": [
    "#6.was to print the address of the memoryblock in the given address\n",
    "a={10,20}\n",
    "id(a)\n",
    "a"
   ]
  },
  {
   "cell_type": "code",
   "execution_count": 38,
   "metadata": {},
   "outputs": [],
   "source": [
    "#7.was to print your details,first store your details extract the values and display it\n",
    "name=\"pooja\"\n",
    "age=21\n",
    "phone=6281355265\n",
    "email='poojagaddam333@gmail.com'\n",
    "pancard=True"
   ]
  },
  {
   "cell_type": "code",
   "execution_count": 40,
   "metadata": {},
   "outputs": [
    {
     "data": {
      "text/plain": [
       "'bye'"
      ]
     },
     "execution_count": 40,
     "metadata": {},
     "output_type": "execute_result"
    }
   ],
   "source": [
    "#8.was to swap the two values with atemp variable and without temp variable\n",
    "X=\"haii\"\n",
    "Y='bye'\n",
    "temp=X\n",
    "X=Y\n",
    "X"
   ]
  },
  {
   "cell_type": "code",
   "execution_count": 44,
   "metadata": {},
   "outputs": [
    {
     "data": {
      "text/plain": [
       "{False}"
      ]
     },
     "execution_count": 44,
     "metadata": {},
     "output_type": "execute_result"
    }
   ],
   "source": [
    "#9.was to initialize a value and print the value ,after print the value,then reinitialize the new value to the existing variable and display the values\n",
    "#.Inistializatiion\n",
    "a={'a'==\"pyspiders\"}\n",
    "a"
   ]
  },
  {
   "cell_type": "code",
   "execution_count": 45,
   "metadata": {},
   "outputs": [
    {
     "data": {
      "text/plain": [
       "[10, 20, 30]"
      ]
     },
     "execution_count": 45,
     "metadata": {},
     "output_type": "execute_result"
    }
   ],
   "source": [
    "#.reinstialization\n",
    "a=[10,20,30]\n",
    "a"
   ]
  },
  {
   "cell_type": "code",
   "execution_count": 49,
   "metadata": {},
   "outputs": [
    {
     "data": {
      "text/plain": [
       "[10, 20, 30]"
      ]
     },
     "execution_count": 49,
     "metadata": {},
     "output_type": "execute_result"
    }
   ],
   "source": [
    "#.fetch\n",
    "a"
   ]
  },
  {
   "cell_type": "code",
   "execution_count": 53,
   "metadata": {},
   "outputs": [
    {
     "data": {
      "text/plain": [
       "'10'"
      ]
     },
     "execution_count": 53,
     "metadata": {},
     "output_type": "execute_result"
    }
   ],
   "source": [
    "#10.was to covert single to multi value data type\n",
    "a=10\n",
    "a=str(a)\n",
    "a"
   ]
  },
  {
   "cell_type": "code",
   "execution_count": 54,
   "metadata": {},
   "outputs": [
    {
     "data": {
      "text/plain": [
       "'helloworld'"
      ]
     },
     "execution_count": 54,
     "metadata": {},
     "output_type": "execute_result"
    }
   ],
   "source": [
    "#11.was to concat the two multi variable data types (str,list,tuple,set,dict)\n",
    "y=\"hello\"\n",
    "y+=\"world\"\n",
    "y"
   ]
  },
  {
   "cell_type": "code",
   "execution_count": 55,
   "metadata": {},
   "outputs": [
    {
     "data": {
      "text/plain": [
       "2"
      ]
     },
     "execution_count": 55,
     "metadata": {},
     "output_type": "execute_result"
    }
   ],
   "source": [
    "#12.was to check the length of the collection\n",
    "t=(20,20)\n",
    "len(t)\n"
   ]
  },
  {
   "cell_type": "code",
   "execution_count": 61,
   "metadata": {},
   "outputs": [
    {
     "data": {
      "text/plain": [
       "30"
      ]
     },
     "execution_count": 61,
     "metadata": {},
     "output_type": "execute_result"
    }
   ],
   "source": [
    "#13.was to check find out the middle value of the given collectin\n",
    "p=(10,20,30,40)\n",
    "p[len(p)//2]"
   ]
  },
  {
   "cell_type": "code",
   "execution_count": 63,
   "metadata": {},
   "outputs": [
    {
     "data": {
      "text/plain": [
       "'hai how r u'"
      ]
     },
     "execution_count": 63,
     "metadata": {},
     "output_type": "execute_result"
    }
   ],
   "source": [
    "#14.was to concat the new string into the starting of the given string\n",
    "a= \" how r u\"\n",
    "b=\"hai\"\n",
    "b+a"
   ]
  },
  {
   "cell_type": "code",
   "execution_count": 68,
   "metadata": {},
   "outputs": [
    {
     "data": {
      "text/plain": [
       "'worldhello'"
      ]
     },
     "execution_count": 68,
     "metadata": {},
     "output_type": "execute_result"
    }
   ],
   "source": [
    "#15.was to concat the new string into the ending of the given list\n",
    "a= \"world\" \n",
    "b= \"hello\"\n",
    "a+b"
   ]
  },
  {
   "cell_type": "code",
   "execution_count": 69,
   "metadata": {},
   "outputs": [
    {
     "data": {
      "text/plain": [
       "'apble'"
      ]
     },
     "execution_count": 69,
     "metadata": {},
     "output_type": "execute_result"
    }
   ],
   "source": [
    "#16.was to concat the string into middle of the given string\n",
    "a=\"apple\"\n",
    "a[0:2]+\"b\"+a[3:]\n"
   ]
  },
  {
   "cell_type": "code",
   "execution_count": 72,
   "metadata": {},
   "outputs": [
    {
     "data": {
      "text/plain": [
       "'i'"
      ]
     },
     "execution_count": 72,
     "metadata": {},
     "output_type": "execute_result"
    }
   ],
   "source": [
    "#17.was to concat the new string into middle of the given string\n",
    "p='pyspiders'\n",
    "p[len(p)//2]\n"
   ]
  },
  {
   "cell_type": "code",
   "execution_count": 84,
   "metadata": {},
   "outputs": [
    {
     "data": {
      "text/plain": [
       "'pyspIders'"
      ]
     },
     "execution_count": 84,
     "metadata": {},
     "output_type": "execute_result"
    }
   ],
   "source": [
    "#17\n",
    "p='pyspiders'\n",
    "p=p[0:len(p)//2]+'I'+p[(len(p)//2)+1:]\n",
    "p"
   ]
  },
  {
   "cell_type": "code",
   "execution_count": 86,
   "metadata": {},
   "outputs": [
    {
     "data": {
      "text/plain": [
       "'i'"
      ]
     },
     "execution_count": 86,
     "metadata": {},
     "output_type": "execute_result"
    }
   ],
   "source": [
    "#18.was to modify the new charecter into middle of the given string\n",
    "a=\"pyspiders\"\n",
    "a[len(a)//2]"
   ]
  },
  {
   "cell_type": "code",
   "execution_count": 92,
   "metadata": {},
   "outputs": [
    {
     "data": {
      "text/plain": [
       "'pyspiders'"
      ]
     },
     "execution_count": 92,
     "metadata": {},
     "output_type": "execute_result"
    }
   ],
   "source": [
    "#18.was to modify the new charecter into middle of the given string\n",
    "\n",
    "a=\"pyspiders\"\n",
    "a[1:len(a)//2]+'L'+a[(len(a)//2)+2:1]\n",
    "a\n"
   ]
  },
  {
   "cell_type": "code",
   "execution_count": 93,
   "metadata": {},
   "outputs": [
    {
     "data": {
      "text/plain": [
       "'pysPIDers'"
      ]
     },
     "execution_count": 93,
     "metadata": {},
     "output_type": "execute_result"
    }
   ],
   "source": [
    "#19.was to modify the sequence of the charecter in the given string\n",
    "a=\"pyspiders\"\n",
    "a=\"pyspiders\"\n",
    "a[0:3]+\"PID\"+a[6:]"
   ]
  },
  {
   "cell_type": "code",
   "execution_count": 94,
   "metadata": {},
   "outputs": [
    {
     "data": {
      "text/plain": [
       "'pyspiDers'"
      ]
     },
     "execution_count": 94,
     "metadata": {},
     "output_type": "execute_result"
    }
   ],
   "source": [
    "#20.was to replace  the old charecter into a new charecter of the given string\n",
    "a=\"pyspiders\"\n",
    "a[:-4]+\"D\"+a[-3:]"
   ]
  },
  {
   "cell_type": "code",
   "execution_count": 95,
   "metadata": {},
   "outputs": [
    {
     "data": {
      "text/plain": [
       "'pypiders'"
      ]
     },
     "execution_count": 95,
     "metadata": {},
     "output_type": "execute_result"
    }
   ],
   "source": [
    "#21.was to delete the specific charecter into the given string\n",
    "a=\"pyspiders\"\n",
    "a[:2]+a[3:]"
   ]
  },
  {
   "cell_type": "code",
   "execution_count": 96,
   "metadata": {},
   "outputs": [
    {
     "data": {
      "text/plain": [
       "'pysers'"
      ]
     },
     "execution_count": 96,
     "metadata": {},
     "output_type": "execute_result"
    }
   ],
   "source": [
    "#22.was to delete the sequence charecter of the given string\n",
    "a=\"pyspiders\"\n",
    "a[:3]+a[6:]"
   ]
  },
  {
   "cell_type": "code",
   "execution_count": 101,
   "metadata": {},
   "outputs": [
    {
     "data": {
      "text/plain": [
       "'hai how are  you!'"
      ]
     },
     "execution_count": 101,
     "metadata": {},
     "output_type": "execute_result"
    }
   ],
   "source": [
    "#23.was to concat the new string into the specific position of the given string\n",
    "p=\"hai  are  you!\"\n",
    "p[0:4]+\"how\"+p[4:]"
   ]
  },
  {
   "cell_type": "code",
   "execution_count": 102,
   "metadata": {},
   "outputs": [
    {
     "data": {
      "text/plain": [
       "1265759858496"
      ]
     },
     "execution_count": 102,
     "metadata": {},
     "output_type": "execute_result"
    }
   ],
   "source": [
    "#24.was to concat the new value into starting of the given list \n",
    "l=[1,2,3]\n",
    "id(l)"
   ]
  },
  {
   "cell_type": "code",
   "execution_count": 103,
   "metadata": {},
   "outputs": [
    {
     "data": {
      "text/plain": [
       "1265759695168"
      ]
     },
     "execution_count": 103,
     "metadata": {},
     "output_type": "execute_result"
    }
   ],
   "source": [
    "#25.was to concat the new value into ending of the given list \n",
    "r=['a','b','c']\n",
    "id(r)"
   ]
  },
  {
   "cell_type": "code",
   "execution_count": 104,
   "metadata": {},
   "outputs": [
    {
     "data": {
      "text/plain": [
       "[10, 150.12, '10', '20', True, 'hai']"
      ]
     },
     "execution_count": 104,
     "metadata": {},
     "output_type": "execute_result"
    }
   ],
   "source": [
    "#26.was to concat the new value into middle of the given list \n",
    "l=[10,150.12,True,\"hai\"]\n",
    "l[len(l)//2:len(l)//2]=['10','20']\n",
    "l"
   ]
  },
  {
   "cell_type": "code",
   "execution_count": 107,
   "metadata": {},
   "outputs": [
    {
     "data": {
      "text/plain": [
       "[10, 150.12, 100, 200, True, 'hai']"
      ]
     },
     "execution_count": 107,
     "metadata": {},
     "output_type": "execute_result"
    }
   ],
   "source": [
    "#27.was to concat the new value into specific position of the given list \n",
    "l=[10,150.12,True,\"hai\"]\n",
    "l[-2:-2]=[100,200]\n",
    "l"
   ]
  },
  {
   "cell_type": "code",
   "execution_count": 108,
   "metadata": {},
   "outputs": [
    {
     "data": {
      "text/plain": [
       "[10, (15+6j), True, 'hai']"
      ]
     },
     "execution_count": 108,
     "metadata": {},
     "output_type": "execute_result"
    }
   ],
   "source": [
    "#28.was to modify the new value into specific position of the given list \n",
    "l=[10,150.12,True,\"hai\"]\n",
    "l[1]=15+6j\n",
    "l"
   ]
  },
  {
   "cell_type": "code",
   "execution_count": 109,
   "metadata": {},
   "outputs": [
    {
     "data": {
      "text/plain": [
       "[{'abc:150'}, 150.12, True, 'hai']"
      ]
     },
     "execution_count": 109,
     "metadata": {},
     "output_type": "execute_result"
    }
   ],
   "source": [
    "#29.was to modify the new value into stating of the given list \n",
    "l=[10,150.12,True,\"hai\"]\n",
    "l[0]={'abc:150'}\n",
    "l"
   ]
  },
  {
   "cell_type": "code",
   "execution_count": 110,
   "metadata": {},
   "outputs": [
    {
     "data": {
      "text/plain": [
       "[10, 150.12, True, 'helloworld']"
      ]
     },
     "execution_count": 110,
     "metadata": {},
     "output_type": "execute_result"
    }
   ],
   "source": [
    "#30.was to modify the new value into ending of the given list \n",
    "l=[10,150.12,True,\"hai\"]\n",
    "l[-1]=\"helloworld\"\n",
    "l"
   ]
  },
  {
   "cell_type": "code",
   "execution_count": 111,
   "metadata": {},
   "outputs": [
    {
     "data": {
      "text/plain": [
       "[10, 150.12, 'helloworld', 'hai']"
      ]
     },
     "execution_count": 111,
     "metadata": {},
     "output_type": "execute_result"
    }
   ],
   "source": [
    "#31.was to modify the new value into middle of the given list \n",
    "l=[10,150.12,True,\"hai\"]\n",
    "l[len(l)//2]=\"helloworld\"\n",
    "l"
   ]
  },
  {
   "cell_type": "code",
   "execution_count": 112,
   "metadata": {},
   "outputs": [
    {
     "data": {
      "text/plain": [
       "['a', 'b', 'c', 'd', 50, 60, 70, 80, 90]"
      ]
     },
     "execution_count": 112,
     "metadata": {},
     "output_type": "execute_result"
    }
   ],
   "source": [
    "#32.was to modify the first 4 position value into the given list \n",
    "l=[10,20,30,40,50,60,70,80,90]\n",
    "l[0:4]=['a','b','c','d']\n",
    "l"
   ]
  },
  {
   "cell_type": "code",
   "execution_count": 113,
   "metadata": {},
   "outputs": [
    {
     "data": {
      "text/plain": [
       "['a', 'b', 'c', 'd', 50, 60, 70, 80, 90]"
      ]
     },
     "execution_count": 113,
     "metadata": {},
     "output_type": "execute_result"
    }
   ],
   "source": [
    "#33.was to modiffy the sequence of values into the given list\n",
    "d=[1,2,3,4,5,6,7,8,9]\n",
    "l[1::2]\n",
    "l"
   ]
  },
  {
   "cell_type": "code",
   "execution_count": 117,
   "metadata": {},
   "outputs": [
    {
     "data": {
      "text/plain": [
       "[1, 3, 4, 5, 7, 64, 6, 81, 15]"
      ]
     },
     "execution_count": 117,
     "metadata": {},
     "output_type": "execute_result"
    }
   ],
   "source": [
    "#34.was to delete the value in the specific positions of the given list\n",
    "s=[1,3,4,5,16,7,64,6,81,15]\n",
    "del s[4]\n",
    "s"
   ]
  },
  {
   "cell_type": "code",
   "execution_count": 118,
   "metadata": {},
   "outputs": [
    {
     "data": {
      "text/plain": [
       "[1, 3, 4, 5, 16, 7, 64, 6, 81]"
      ]
     },
     "execution_count": 118,
     "metadata": {},
     "output_type": "execute_result"
    }
   ],
   "source": [
    "#35.was to delete new value into the ending of the  list\n",
    "s=[1,3,4,5,16,7,64,6,81,15]\n",
    "del s[-1]\n",
    "s\n"
   ]
  },
  {
   "cell_type": "code",
   "execution_count": 119,
   "metadata": {},
   "outputs": [
    {
     "data": {
      "text/plain": [
       "[3, 4, 5, 16, 7, 64, 6, 81, 15]"
      ]
     },
     "execution_count": 119,
     "metadata": {},
     "output_type": "execute_result"
    }
   ],
   "source": [
    "#36.was to delete new value into the starting of the  list\n",
    "s=[1,3,4,5,16,7,64,6,81,15]\n",
    "s[0:1]=[]\n",
    "s"
   ]
  },
  {
   "cell_type": "code",
   "execution_count": 121,
   "metadata": {},
   "outputs": [
    {
     "data": {
      "text/plain": [
       "[1, 3, 4, 5, 16, 64, 6, 81, 15]"
      ]
     },
     "execution_count": 121,
     "metadata": {},
     "output_type": "execute_result"
    }
   ],
   "source": [
    "#37.was to delete new value into the middle of the  list\n",
    "s=[1,3,4,5,16,7,64,6,81,15]\n",
    "del s[len(s)//2]\n",
    "s"
   ]
  },
  {
   "cell_type": "code",
   "execution_count": 126,
   "metadata": {},
   "outputs": [
    {
     "data": {
      "text/plain": [
       "(10, 20, 60, 30, 40)"
      ]
     },
     "execution_count": 126,
     "metadata": {},
     "output_type": "execute_result"
    }
   ],
   "source": [
    "#38.was to concat value into middle of the tuple\n",
    "t=(10,20,30,40)\n",
    "t=t[:len(t)//2]+(60,)+t[len(t)//2:]\n",
    "t"
   ]
  },
  {
   "cell_type": "code",
   "execution_count": 129,
   "metadata": {},
   "outputs": [
    {
     "data": {
      "text/plain": [
       "('a', 'b', 10, 20, 30, 40)"
      ]
     },
     "execution_count": 129,
     "metadata": {},
     "output_type": "execute_result"
    }
   ],
   "source": [
    "#39.was to concat value into starting of the tuple\n",
    "t=(10,20,30,40)\n",
    "t=('a','b')+t\n",
    "t\n"
   ]
  },
  {
   "cell_type": "code",
   "execution_count": 130,
   "metadata": {},
   "outputs": [
    {
     "data": {
      "text/plain": [
       "(10, 20, 30, 40, 'a', 'b')"
      ]
     },
     "execution_count": 130,
     "metadata": {},
     "output_type": "execute_result"
    }
   ],
   "source": [
    "#40.was to concat value into ending of the tuple\n",
    "t=(10,20,30,40)\n",
    "t=t+('a','b')\n",
    "t"
   ]
  },
  {
   "cell_type": "code",
   "execution_count": 133,
   "metadata": {},
   "outputs": [
    {
     "data": {
      "text/plain": [
       "(1, 5, 6, 4)"
      ]
     },
     "execution_count": 133,
     "metadata": {},
     "output_type": "execute_result"
    }
   ],
   "source": [
    "#41.was to modify the sequence of values in given tuple\n",
    "s=(1,2,3,4)\n",
    "s[:1]+(5,6)+s[2+1:]\n",
    "\n"
   ]
  },
  {
   "cell_type": "code",
   "execution_count": 135,
   "metadata": {},
   "outputs": [
    {
     "data": {
      "text/plain": [
       "(1, 4)"
      ]
     },
     "execution_count": 135,
     "metadata": {},
     "output_type": "execute_result"
    }
   ],
   "source": [
    "#42.was to delete the sequence of values in given tuple\n",
    "s=(1,2,3,4)\n",
    "s=s[:1]+s[3:]\n",
    "s\n"
   ]
  },
  {
   "cell_type": "code",
   "execution_count": 141,
   "metadata": {},
   "outputs": [
    {
     "data": {
      "text/plain": [
       "{1, 10, 2, 20, 3, 4, 5, 6, 'A'}"
      ]
     },
     "execution_count": 141,
     "metadata": {},
     "output_type": "execute_result"
    }
   ],
   "source": [
    "#43.was to concat the new value into the set\n",
    "s={1,2,3,4,5,6}\n",
    "s=s|{10,20,'A'}\n",
    "s\n",
    "    "
   ]
  },
  {
   "cell_type": "code",
   "execution_count": 147,
   "metadata": {},
   "outputs": [
    {
     "data": {
      "text/plain": [
       "{1, 10, 2, 20, 3, 'A'}"
      ]
     },
     "execution_count": 147,
     "metadata": {},
     "output_type": "execute_result"
    }
   ],
   "source": [
    "#44.was to delete the specific value into the set\n",
    "s={1,2,3,4,5,6,10,20,'A'}\n",
    "s=s-{4,5,6}\n",
    "s"
   ]
  },
  {
   "cell_type": "code",
   "execution_count": 148,
   "metadata": {},
   "outputs": [
    {
     "data": {
      "text/plain": [
       "{'a': 150}"
      ]
     },
     "execution_count": 148,
     "metadata": {},
     "output_type": "execute_result"
    }
   ],
   "source": [
    "#45.was to concat the new key and value into the dict\n",
    "d={'a':150}\n",
    "d"
   ]
  },
  {
   "cell_type": "code",
   "execution_count": 158,
   "metadata": {},
   "outputs": [
    {
     "data": {
      "text/plain": [
       "500"
      ]
     },
     "execution_count": 158,
     "metadata": {},
     "output_type": "execute_result"
    }
   ],
   "source": [
    "#46.was to delete the specific key and value in the given dict\n",
    "d={'a':'hai','b':750,'c':500,'d':780}\n",
    "d['c']\n"
   ]
  },
  {
   "cell_type": "code",
   "execution_count": 159,
   "metadata": {},
   "outputs": [
    {
     "data": {
      "text/plain": [
       "{10: 156, 20: 'haii'}"
      ]
     },
     "execution_count": 159,
     "metadata": {},
     "output_type": "execute_result"
    }
   ],
   "source": [
    "#47.was to modify the the specific value in the given dict\n",
    "x={10:150,20:\"haii\"}\n",
    "x[10]=156\n",
    "x"
   ]
  },
  {
   "cell_type": "code",
   "execution_count": 186,
   "metadata": {},
   "outputs": [
    {
     "data": {
      "text/plain": [
       "['a', 'b', 'c', 'd', 50, 60, 70, 80, 90, 10, 20, 30, 40]"
      ]
     },
     "execution_count": 186,
     "metadata": {},
     "output_type": "execute_result"
    }
   ],
   "source": [
    "#48.was to concat the list value and tuple values by using typecasting\n",
    "L=['A','B','C','D']\n",
    "t=(10,20,30,40)\n",
    "l+list(t)\n"
   ]
  },
  {
   "cell_type": "code",
   "execution_count": 190,
   "metadata": {},
   "outputs": [
    {
     "data": {
      "text/plain": [
       "['a', 'b', 'c', 'd', 50, 60, 70, 80, 90, 10, 20, 30, 40]"
      ]
     },
     "execution_count": 190,
     "metadata": {},
     "output_type": "execute_result"
    }
   ],
   "source": [
    "#49.was to concat the list value and tuple value with out using type casting\n",
    "l\n",
    "['a','b','c',10,20,30]\n",
    "t\n",
    "(10,20,30)\n",
    "l+=t\n",
    "l"
   ]
  },
  {
   "cell_type": "code",
   "execution_count": 191,
   "metadata": {},
   "outputs": [
    {
     "data": {
      "text/plain": [
       "0"
      ]
     },
     "execution_count": 191,
     "metadata": {},
     "output_type": "execute_result"
    }
   ],
   "source": [
    "#50.was to check the given number is divisible by 3\n",
    "n=9\n",
    "res=n%3\n",
    "res"
   ]
  },
  {
   "cell_type": "code",
   "execution_count": 1,
   "metadata": {},
   "outputs": [
    {
     "name": "stdout",
     "output_type": "stream",
     "text": [
      "True\n"
     ]
    }
   ],
   "source": [
    "#51.wae to check the given number is divisible by 2 and 6\n",
    "n=12 \n",
    "print(n%2==0 and n%6==0)\n"
   ]
  },
  {
   "cell_type": "code",
   "execution_count": 2,
   "metadata": {},
   "outputs": [
    {
     "data": {
      "text/plain": [
       "9"
      ]
     },
     "execution_count": 2,
     "metadata": {},
     "output_type": "execute_result"
    }
   ],
   "source": [
    "#52.wae to extract the last digit in given integer number(without type casting\n",
    "n=1999\n",
    "n%10\n"
   ]
  },
  {
   "cell_type": "code",
   "execution_count": 3,
   "metadata": {},
   "outputs": [
    {
     "data": {
      "text/plain": [
       "True"
      ]
     },
     "execution_count": 3,
     "metadata": {},
     "output_type": "execute_result"
    }
   ],
   "source": [
    "#53.wae to extract the last digit given intrger number(with type casting)\n",
    "n=2026\n",
    "(int(str(n)[-1]))%3==0\n"
   ]
  },
  {
   "cell_type": "code",
   "execution_count": 5,
   "metadata": {},
   "outputs": [
    {
     "data": {
      "text/plain": [
       "'9'"
      ]
     },
     "execution_count": 5,
     "metadata": {},
     "output_type": "execute_result"
    }
   ],
   "source": [
    "#54.wae to check the last digit is divisible by 3 from given integer number(with type casting)\n",
    "n=19\n",
    "(int(str(n)[-1]))%3==0\n",
    "n=9\n",
    "str(n)\n",
    "\n"
   ]
  },
  {
   "cell_type": "code",
   "execution_count": 6,
   "metadata": {},
   "outputs": [
    {
     "data": {
      "text/plain": [
       "True"
      ]
     },
     "execution_count": 6,
     "metadata": {},
     "output_type": "execute_result"
    }
   ],
   "source": [
    "#55.wae to check the given number is greater than 150\n",
    "n=500\n",
    "n>150"
   ]
  },
  {
   "cell_type": "code",
   "execution_count": 7,
   "metadata": {},
   "outputs": [
    {
     "data": {
      "text/plain": [
       "True"
      ]
     },
     "execution_count": 7,
     "metadata": {},
     "output_type": "execute_result"
    }
   ],
   "source": [
    "#56.wae to check given number is>=100\n",
    "n=100\n",
    "n>=100"
   ]
  },
  {
   "cell_type": "code",
   "execution_count": 8,
   "metadata": {},
   "outputs": [
    {
     "data": {
      "text/plain": [
       "True"
      ]
     },
     "execution_count": 8,
     "metadata": {},
     "output_type": "execute_result"
    }
   ],
   "source": [
    "#57. wae to check the given number is<150,print the result\n",
    "n=16\n",
    "(n%2==0)"
   ]
  },
  {
   "cell_type": "code",
   "execution_count": 9,
   "metadata": {},
   "outputs": [
    {
     "data": {
      "text/plain": [
       "True"
      ]
     },
     "execution_count": 9,
     "metadata": {},
     "output_type": "execute_result"
    }
   ],
   "source": [
    "#58.wae to check given number is <=100\n",
    "n=90\n",
    "n<=90"
   ]
  },
  {
   "cell_type": "code",
   "execution_count": 10,
   "metadata": {},
   "outputs": [
    {
     "data": {
      "text/plain": [
       "True"
      ]
     },
     "execution_count": 10,
     "metadata": {},
     "output_type": "execute_result"
    }
   ],
   "source": [
    "#59.wae to check the given number is greateer than 15 and less than24\n",
    "n=18\n",
    "n>15 and n<24"
   ]
  },
  {
   "cell_type": "code",
   "execution_count": 12,
   "metadata": {},
   "outputs": [
    {
     "data": {
      "text/plain": [
       "True"
      ]
     },
     "execution_count": 12,
     "metadata": {},
     "output_type": "execute_result"
    }
   ],
   "source": [
    "#60.wae to check the given number is even (divisible by 2)\n",
    "n=10\n",
    "(n%2==0)"
   ]
  },
  {
   "cell_type": "code",
   "execution_count": 13,
   "metadata": {},
   "outputs": [
    {
     "data": {
      "text/plain": [
       "True"
      ]
     },
     "execution_count": 13,
     "metadata": {},
     "output_type": "execute_result"
    }
   ],
   "source": [
    "#61.wae to check the given number is odd\n",
    "n=19\n",
    "(n%2!=0)"
   ]
  },
  {
   "cell_type": "code",
   "execution_count": 15,
   "metadata": {},
   "outputs": [
    {
     "name": "stdout",
     "output_type": "stream",
     "text": [
      "abcabcabcabcabcabc\n"
     ]
    }
   ],
   "source": [
    "#62.wae to check perfornm the replication of a given sttring with 6\n",
    "s=\"abc\"\n",
    "print(s*6)"
   ]
  },
  {
   "cell_type": "code",
   "execution_count": 17,
   "metadata": {},
   "outputs": [
    {
     "data": {
      "text/plain": [
       "True"
      ]
     },
     "execution_count": 17,
     "metadata": {},
     "output_type": "execute_result"
    }
   ],
   "source": [
    "#63.wae to check the given number is divisible by 3 and  also the number should be greater than 22\n",
    "n=27\n",
    "(n%3==0) and (n>22)"
   ]
  },
  {
   "cell_type": "code",
   "execution_count": 26,
   "metadata": {},
   "outputs": [
    {
     "name": "stdout",
     "output_type": "stream",
     "text": [
      "True\n"
     ]
    }
   ],
   "source": [
    "#64.wae to check perform the length of the collection is even or not\n",
    "g='qspiders'\n",
    "len(g)\n",
    "print(len(g)%2==0)\n",
    "# here we can take q value is even number so its give true\n",
    "#and if we take p value then it is not even number so its give false"
   ]
  },
  {
   "cell_type": "code",
   "execution_count": 25,
   "metadata": {},
   "outputs": [
    {
     "name": "stdout",
     "output_type": "stream",
     "text": [
      "True\n"
     ]
    }
   ],
   "source": [
    "#65.wae to check perform the length of the collection is less than 55 and greater than 16\n",
    "p='abcdefghijklmnopqrstuvwxyz'\n",
    "len(p)\n",
    "print(len(p)>16 and len(p)<55)"
   ]
  },
  {
   "cell_type": "code",
   "execution_count": 1,
   "metadata": {},
   "outputs": [
    {
     "name": "stdout",
     "output_type": "stream",
     "text": [
      "False\n"
     ]
    }
   ],
   "source": [
    "#66.wae to check perform the length of the collection is divisible by 5 and odd\n",
    "a='abcdefghijklmnopqrstuvwxyz'\n",
    "print(len(a)%5==0 and len(a)%2!=0)"
   ]
  },
  {
   "cell_type": "code",
   "execution_count": 2,
   "metadata": {},
   "outputs": [
    {
     "name": "stdout",
     "output_type": "stream",
     "text": [
      "True\n"
     ]
    }
   ],
   "source": [
    "#67. WAE to check extract the middle position of a given collection is either str,list,tuple.\n",
    "s=[10,('a','b'),[10,20]]\n",
    "res=type(s[len(s)//2])\n",
    "print(res in [str,list,tuple])"
   ]
  },
  {
   "cell_type": "code",
   "execution_count": 1,
   "metadata": {},
   "outputs": [
    {
     "name": "stdout",
     "output_type": "stream",
     "text": [
      "True\n"
     ]
    }
   ],
   "source": [
    "#68. WAE to check the given number is greater than 20 and less than 30 and it should be even.\n",
    "a=26\n",
    "print(20<a<30 and a%2==0)"
   ]
  },
  {
   "cell_type": "code",
   "execution_count": 2,
   "metadata": {},
   "outputs": [
    {
     "name": "stdout",
     "output_type": "stream",
     "text": [
      "True\n"
     ]
    }
   ],
   "source": [
    "#69. WAE to  check the given number is even and it should be less than 120.\n",
    "a=100\n",
    "print(a<120 and a%2==0)"
   ]
  },
  {
   "cell_type": "code",
   "execution_count": 3,
   "metadata": {},
   "outputs": [
    {
     "name": "stdout",
     "output_type": "stream",
     "text": [
      "True\n"
     ]
    }
   ],
   "source": [
    "#70. WAE to check the given number is even and present from 40 to 70.\n",
    "a=60\n",
    "print(a%2==0 and 40<a<70)"
   ]
  },
  {
   "cell_type": "code",
   "execution_count": 4,
   "metadata": {},
   "outputs": [
    {
     "name": "stdout",
     "output_type": "stream",
     "text": [
      "True\n"
     ]
    }
   ],
   "source": [
    "#71. WAE to check the given number is odd and should be greater than 97.\n",
    "a=99\n",
    "print(a%2!=0 and a>97)"
   ]
  },
  {
   "cell_type": "code",
   "execution_count": 5,
   "metadata": {},
   "outputs": [
    {
     "name": "stdout",
     "output_type": "stream",
     "text": [
      "True\n"
     ]
    }
   ],
   "source": [
    "#72. WAE to check the given number is less than 122 and greater than 48 and the number should be divisible by 4.\n",
    "a=60\n",
    "print(48<a<122 and a%4==0)"
   ]
  },
  {
   "cell_type": "code",
   "execution_count": 6,
   "metadata": {},
   "outputs": [
    {
     "name": "stdout",
     "output_type": "stream",
     "text": [
      "True\n"
     ]
    }
   ],
   "source": [
    "#73. WAE to check the given number is divisible by 3 or 5,displaying the value.\n",
    "a=15\n",
    "print(a%3==0 or a%5==0)"
   ]
  },
  {
   "cell_type": "code",
   "execution_count": 7,
   "metadata": {},
   "outputs": [
    {
     "name": "stdout",
     "output_type": "stream",
     "text": [
      "True\n"
     ]
    }
   ],
   "source": [
    "#74. WAE to check the given number is between 100 to 200 including the limit.\n",
    "a=150\n",
    "print(100<=a<=200)"
   ]
  },
  {
   "cell_type": "code",
   "execution_count": 10,
   "metadata": {},
   "outputs": [
    {
     "name": "stdout",
     "output_type": "stream",
     "text": [
      "True\n"
     ]
    }
   ],
   "source": [
    "#75. WAE to check the given number is in between 100 to 200.\n",
    "a=199\n",
    "print(100<a<200)"
   ]
  },
  {
   "cell_type": "code",
   "execution_count": 11,
   "metadata": {},
   "outputs": [
    {
     "name": "stdout",
     "output_type": "stream",
     "text": [
      "False\n"
     ]
    }
   ],
   "source": [
    "#76. WAE to check the given string last character ASCII value should be divisible by 5 or not.\n",
    "a='apple'\n",
    "print(ord(a[-1])%5==0)"
   ]
  },
  {
   "cell_type": "code",
   "execution_count": 12,
   "metadata": {},
   "outputs": [
    {
     "name": "stdout",
     "output_type": "stream",
     "text": [
      "False\n",
      "True\n"
     ]
    }
   ],
   "source": [
    "#77. (A) WAE to check the given number is present 60 and 130 and the number should be divisible by 3 and 4 and the last digit should be greater than 9.\n",
    "a=120\n",
    "print(60<=a<=130 and a%3==0 and a%4==0 and a%10>9 ) \n",
    "#(B) WAE to check the given number is present 60 and 130 and the number should be divisible by 3 and 4 and the last digit should be less than 9.\n",
    "a=120\n",
    "print(60<=a<=130 and a%3==0 and a%4==0 and a%10<9 )"
   ]
  },
  {
   "cell_type": "code",
   "execution_count": 13,
   "metadata": {},
   "outputs": [
    {
     "name": "stdout",
     "output_type": "stream",
     "text": [
      "True\n"
     ]
    }
   ],
   "source": [
    "#78. WAE to check the given number is Even or less than 25.\n",
    "a=18\n",
    "print(a%2==0 or a<25)"
   ]
  },
  {
   "cell_type": "code",
   "execution_count": 14,
   "metadata": {},
   "outputs": [
    {
     "name": "stdout",
     "output_type": "stream",
     "text": [
      "True\n"
     ]
    }
   ],
   "source": [
    "#79. WAE to check the given number is Even or greater than 25.\n",
    "a=18\n",
    "print(a%2==0 or a>25)"
   ]
  },
  {
   "cell_type": "code",
   "execution_count": 15,
   "metadata": {},
   "outputs": [
    {
     "name": "stdout",
     "output_type": "stream",
     "text": [
      "True\n"
     ]
    }
   ],
   "source": [
    "#80. WAE to check the given number is divisible by 3 or 5.\n",
    "a=27\n",
    "print(a%3==0 or a%5==0)"
   ]
  },
  {
   "cell_type": "code",
   "execution_count": 16,
   "metadata": {},
   "outputs": [
    {
     "name": "stdout",
     "output_type": "stream",
     "text": [
      "True\n"
     ]
    }
   ],
   "source": [
    "#81. WAE to check the given number is not an Even Number.\n",
    "a=25\n",
    "print((a)%2!=0)"
   ]
  },
  {
   "cell_type": "code",
   "execution_count": 17,
   "metadata": {},
   "outputs": [
    {
     "name": "stdout",
     "output_type": "stream",
     "text": [
      "True\n"
     ]
    }
   ],
   "source": [
    "#82. WAE to check the given number is not an odd Number.\n",
    "a=26\n",
    "print((a)%2==0)"
   ]
  },
  {
   "cell_type": "code",
   "execution_count": 18,
   "metadata": {},
   "outputs": [
    {
     "name": "stdout",
     "output_type": "stream",
     "text": [
      "True\n"
     ]
    }
   ],
   "source": [
    "#83. WAE to check the given number is not divisible by 3.\n",
    "a=25\n",
    "print((a)%3!=0)"
   ]
  },
  {
   "cell_type": "code",
   "execution_count": 19,
   "metadata": {},
   "outputs": [
    {
     "name": "stdout",
     "output_type": "stream",
     "text": [
      "True\n"
     ]
    }
   ],
   "source": [
    "#84. WAE to check the given number is not divisible by 3 and 5.\n",
    "a=26\n",
    "print(a%3!=0 and a%5!=0)"
   ]
  },
  {
   "cell_type": "code",
   "execution_count": 20,
   "metadata": {},
   "outputs": [
    {
     "name": "stdout",
     "output_type": "stream",
     "text": [
      "True\n"
     ]
    }
   ],
   "source": [
    "#85. WAE to check the given number is not divisible by 3 or 5.\n",
    "a=26\n",
    "print(a%3!=0 or a%5!=0)"
   ]
  },
  {
   "cell_type": "code",
   "execution_count": 21,
   "metadata": {},
   "outputs": [
    {
     "name": "stdout",
     "output_type": "stream",
     "text": [
      "104\n",
      "True\n"
     ]
    }
   ],
   "source": [
    "#86. WAE to check the given character ASCII value is not divisible by 5.\n",
    "a='h'\n",
    "print(ord(a))\n",
    "print(ord(a)%5!=0)"
   ]
  },
  {
   "cell_type": "code",
   "execution_count": 22,
   "metadata": {},
   "outputs": [
    {
     "name": "stdout",
     "output_type": "stream",
     "text": [
      "X\n"
     ]
    }
   ],
   "source": [
    "#87. WAE to check find out the ASCII character in a given number.\n",
    "a=88\n",
    "print(chr(a))"
   ]
  },
  {
   "cell_type": "code",
   "execution_count": 23,
   "metadata": {},
   "outputs": [
    {
     "name": "stdout",
     "output_type": "stream",
     "text": [
      "65\n"
     ]
    }
   ],
   "source": [
    "#88. WAE to find ASCII value of a given character.\n",
    "a='A'\n",
    "print(ord(a))"
   ]
  },
  {
   "cell_type": "code",
   "execution_count": 2,
   "metadata": {},
   "outputs": [
    {
     "data": {
      "text/plain": [
       "True"
      ]
     },
     "execution_count": 2,
     "metadata": {},
     "output_type": "execute_result"
    }
   ],
   "source": [
    "#89.wae to check the charecter is upper case or not\n",
    "ch='G'\n",
    "'A'<=ch and ch<='z'"
   ]
  },
  {
   "cell_type": "code",
   "execution_count": 3,
   "metadata": {},
   "outputs": [
    {
     "data": {
      "text/plain": [
       "True"
      ]
     },
     "execution_count": 3,
     "metadata": {},
     "output_type": "execute_result"
    }
   ],
   "source": [
    "#90 wae to check given character is lower case or not\n",
    "ch='a'\n",
    "'a'<=ch<='z'"
   ]
  },
  {
   "cell_type": "code",
   "execution_count": 1,
   "metadata": {},
   "outputs": [
    {
     "name": "stdout",
     "output_type": "stream",
     "text": [
      "True\n"
     ]
    }
   ],
   "source": [
    "#91. WAE to check the given character is a alphabet or not.\n",
    "ch='U'\n",
    "print( len(ch)==1 and 'A'<=ch<='Z' or 'a'<=ch<='z')"
   ]
  },
  {
   "cell_type": "code",
   "execution_count": 1,
   "metadata": {},
   "outputs": [
    {
     "name": "stdout",
     "output_type": "stream",
     "text": [
      "True\n"
     ]
    }
   ],
   "source": [
    "#92. WAE to check the given character is the ASCII Number.\n",
    "ch='5'\n",
    "print(len(ch)==1 and '0'<=ch<='9')"
   ]
  },
  {
   "cell_type": "code",
   "execution_count": 2,
   "metadata": {},
   "outputs": [
    {
     "name": "stdout",
     "output_type": "stream",
     "text": [
      "False\n"
     ]
    }
   ],
   "source": [
    "#93. WAE to check the given character is special character or not.\n",
    "a='@'\n",
    "print('A'<=a<='Z' or 'a'<=a<='z' or '0'<=a<='9')"
   ]
  },
  {
   "cell_type": "code",
   "execution_count": 3,
   "metadata": {},
   "outputs": [
    {
     "name": "stdout",
     "output_type": "stream",
     "text": [
      "False\n",
      "True\n"
     ]
    }
   ],
   "source": [
    "#94. WAE to check the given character should not be Upper case.\n",
    "a='A'\n",
    "print(not('A'<=a<='Z'))\n",
    "ch='a'\n",
    "print(not('A'<=ch<='Z' ))"
   ]
  },
  {
   "cell_type": "code",
   "execution_count": 4,
   "metadata": {},
   "outputs": [
    {
     "name": "stdout",
     "output_type": "stream",
     "text": [
      "True\n",
      "False\n"
     ]
    }
   ],
   "source": [
    "#95. WAE to check the given character should not be lower case.\n",
    "a='A'\n",
    "print(not('a'<=a<='z'))\n",
    "ch='a'\n",
    "print(not('a'<=ch<='z'))"
   ]
  },
  {
   "cell_type": "code",
   "execution_count": 6,
   "metadata": {},
   "outputs": [
    {
     "name": "stdout",
     "output_type": "stream",
     "text": [
      "True\n",
      "False\n"
     ]
    }
   ],
   "source": [
    "#96. WAE to check the given character should not be alphabet.\n",
    "a='0'\n",
    "print(not('A'<=a<='Z' or 'a'<=a<='z'))\n",
    "ch='d'\n",
    "print(not('A'<=ch<='Z' or 'a'<=ch<='z'))"
   ]
  },
  {
   "cell_type": "code",
   "execution_count": 7,
   "metadata": {},
   "outputs": [
    {
     "name": "stdout",
     "output_type": "stream",
     "text": [
      "True\n",
      "False\n"
     ]
    }
   ],
   "source": [
    "#97. WAE to check the given character should not be an ASCII Number.\n",
    "a='$'\n",
    "print(not(ord(a)>48 and ord(a)<58))\n",
    "ch='9'\n",
    "print(not(ord(ch)>= 48 and ord(ch) <= 57))\n"
   ]
  },
  {
   "cell_type": "code",
   "execution_count": 8,
   "metadata": {},
   "outputs": [
    {
     "name": "stdout",
     "output_type": "stream",
     "text": [
      "False\n",
      "True\n"
     ]
    }
   ],
   "source": [
    "#98. WAE to check the given character should not be a special character.\n",
    "a='*'\n",
    "print('A'<=a<='Z' or 'a'<=a<='z' or '0'<=a<='9')\n",
    "ch='a'\n",
    "print('A'<=ch<='Z' or 'a'<=ch<='z' or '0'<=ch<='9')"
   ]
  },
  {
   "cell_type": "code",
   "execution_count": 9,
   "metadata": {},
   "outputs": [
    {
     "name": "stdout",
     "output_type": "stream",
     "text": [
      "True\n",
      "False\n",
      "True\n"
     ]
    }
   ],
   "source": [
    "#99. WAE to check the given character is vowel.\n",
    "a='A'\n",
    "print(a=='A' or a=='E' or a=='I' or a=='O' or a=='U' or a=='a' or a=='e' or a=='i' or a=='o' or a=='u')\n",
    "a='t'\n",
    "print(a=='A' or a=='E' or a=='I' or a=='O' or a=='U' or a=='a' or a=='e' or a=='i' or a=='o' or a=='u')\n",
    "#OR\n",
    "a='e'\n",
    "print(a in 'AEIOUaeiou')"
   ]
  },
  {
   "cell_type": "code",
   "execution_count": 10,
   "metadata": {},
   "outputs": [
    {
     "name": "stdout",
     "output_type": "stream",
     "text": [
      "True\n",
      "False\n",
      "False\n"
     ]
    }
   ],
   "source": [
    "#100. WAE to check the given character is a consonant.\n",
    "a='S'\n",
    "print(not(a=='A' or a=='E' or a=='I' or a=='O' or a=='U' or a=='a' or a=='e' or a=='i' or a=='o' or a=='u'))\n",
    "a='I'\n",
    "print(not(a=='A' or a=='E' or a=='I' or a=='O' or a=='U' or a=='a' or a=='e' or a=='i' or a=='o' or a=='u'))\n",
    "#OR\n",
    "ch='H'\n",
    "print(not(a=='A' or a=='E' or a=='I' or a=='O' or a=='U' or a=='a' or a=='e' or a=='i' or a=='o' or a=='u'))\n"
   ]
  },
  {
   "cell_type": "code",
   "execution_count": 11,
   "metadata": {},
   "outputs": [
    {
     "name": "stdout",
     "output_type": "stream",
     "text": [
      "a\n",
      "a\n"
     ]
    }
   ],
   "source": [
    "#101. WAS to convert uppercase to lowercase.\n",
    "ch='A'\n",
    "print(chr(ord(ch)+32))\n",
    "#OR\n",
    "ch='A'\n",
    "print(ch.lower())"
   ]
  },
  {
   "cell_type": "code",
   "execution_count": 53,
   "metadata": {},
   "outputs": [
    {
     "name": "stdout",
     "output_type": "stream",
     "text": [
      "A\n",
      "A\n"
     ]
    }
   ],
   "source": [
    "#102. WAS to convert lowercase to uppercase.\n",
    "ch='a'\n",
    "print(chr(ord(ch)-32))\n",
    "#OR\n",
    "ch='a'\n",
    "print(ch.upper())"
   ]
  },
  {
   "cell_type": "code",
   "execution_count": 14,
   "metadata": {},
   "outputs": [
    {
     "name": "stdout",
     "output_type": "stream",
     "text": [
      "A\n"
     ]
    }
   ],
   "source": [
    "#103. WAS to extract the previous character in the given character.\n",
    "ch='B'\n",
    "print(chr(ord(ch)-1))\n"
   ]
  },
  {
   "cell_type": "code",
   "execution_count": 15,
   "metadata": {},
   "outputs": [
    {
     "name": "stdout",
     "output_type": "stream",
     "text": [
      "C\n"
     ]
    }
   ],
   "source": [
    "#104. WAS to extract the next character in the given character.\n",
    "ch='B'\n",
    "print(chr(ord(ch)+1))"
   ]
  },
  {
   "cell_type": "code",
   "execution_count": 16,
   "metadata": {},
   "outputs": [
    {
     "name": "stdout",
     "output_type": "stream",
     "text": [
      "True\n"
     ]
    }
   ],
   "source": [
    "#105. WAS to check the given character is converted to ASCII value and the value is a EVEN as well as character should be lowercase.\n",
    "ch='d'\n",
    "print(len(ch)==1  and ord(ch)%2==0 and 'a'<=ch<='z')"
   ]
  },
  {
   "cell_type": "code",
   "execution_count": 17,
   "metadata": {},
   "outputs": [
    {
     "name": "stdout",
     "output_type": "stream",
     "text": [
      "True\n"
     ]
    }
   ],
   "source": [
    "#106. WAS to check the given character is converted to ASCII value and the value is odd as well as character should be uppercase.\n",
    "ch='E'\n",
    "print(len(ch)==1 and ord(ch)%2!=0 and 'A'<=ch<='Z')"
   ]
  },
  {
   "cell_type": "code",
   "execution_count": 18,
   "metadata": {},
   "outputs": [
    {
     "name": "stdout",
     "output_type": "stream",
     "text": [
      "True\n"
     ]
    }
   ],
   "source": [
    "#107. WAS to check which the given number is converted to character is not a special symbol.\n",
    "n=57\n",
    "print('A'<=chr(n)<='Z' or 'a'<=chr(n)<='z' or '0'<=chr(n)<='9')"
   ]
  },
  {
   "cell_type": "code",
   "execution_count": 19,
   "metadata": {},
   "outputs": [
    {
     "name": "stdout",
     "output_type": "stream",
     "text": [
      "True\n"
     ]
    }
   ],
   "source": [
    "#108. WAS to check the given number of the character is vowel.\n",
    "n=65\n",
    "print(chr(n) in 'AEIOUaeiou')"
   ]
  },
  {
   "cell_type": "code",
   "execution_count": 20,
   "metadata": {},
   "outputs": [
    {
     "data": {
      "text/plain": [
       "True"
      ]
     },
     "execution_count": 20,
     "metadata": {},
     "output_type": "execute_result"
    }
   ],
   "source": [
    "#109.WAS to check if the 1st and 2nd characters are sequence or not in a given string.\n",
    "ch='ABCD'\n",
    "ord(ch[0])+1==ord(ch[1])"
   ]
  },
  {
   "cell_type": "code",
   "execution_count": 21,
   "metadata": {},
   "outputs": [
    {
     "name": "stdout",
     "output_type": "stream",
     "text": [
      "True\n"
     ]
    }
   ],
   "source": [
    "#110. WAS to check if the given character ASCII value should be greater than 50 or greater than 25 or less than 112.\n",
    "ch='A'\n",
    "print(ord(ch)>50 or ord(ch)<112)"
   ]
  },
  {
   "cell_type": "code",
   "execution_count": 22,
   "metadata": {},
   "outputs": [
    {
     "name": "stdout",
     "output_type": "stream",
     "text": [
      "57\n"
     ]
    }
   ],
   "source": [
    "#111. WAS to given number is increased by 1.\n",
    "n=56\n",
    "n+=1\n",
    "print(n)"
   ]
  },
  {
   "cell_type": "code",
   "execution_count": 23,
   "metadata": {},
   "outputs": [
    {
     "name": "stdout",
     "output_type": "stream",
     "text": [
      "58\n"
     ]
    }
   ],
   "source": [
    "#112. WAS to a given number increased by 2.\n",
    "n=56\n",
    "n+=2\n",
    "print(n)"
   ]
  },
  {
   "cell_type": "code",
   "execution_count": 24,
   "metadata": {},
   "outputs": [
    {
     "name": "stdout",
     "output_type": "stream",
     "text": [
      "55\n"
     ]
    }
   ],
   "source": [
    "#113. WAS to a given number decreased by 1.\n",
    "n=56\n",
    "n-=1\n",
    "print(n)\n"
   ]
  },
  {
   "cell_type": "code",
   "execution_count": 25,
   "metadata": {},
   "outputs": [
    {
     "name": "stdout",
     "output_type": "stream",
     "text": [
      "53\n"
     ]
    }
   ],
   "source": [
    "#114. WAS to given number decreased by 3.\n",
    "n=56\n",
    "n-=3\n",
    "print(n)"
   ]
  },
  {
   "cell_type": "code",
   "execution_count": 26,
   "metadata": {},
   "outputs": [
    {
     "name": "stdout",
     "output_type": "stream",
     "text": [
      "True\n"
     ]
    }
   ],
   "source": [
    "#115. WAS to check the integer number is present in the collection.\n",
    "n=10\n",
    "coll=[10,20,30]\n",
    "print(n in coll)"
   ]
  },
  {
   "cell_type": "code",
   "execution_count": 27,
   "metadata": {},
   "outputs": [
    {
     "name": "stdout",
     "output_type": "stream",
     "text": [
      "110\n"
     ]
    }
   ],
   "source": [
    "#116. WAS to check petrform the addition operation on A value and B value and final value should be assigned to A.\n",
    "A=50\n",
    "B=60\n",
    "A+=B\n",
    "print(A)"
   ]
  },
  {
   "cell_type": "code",
   "execution_count": 28,
   "metadata": {},
   "outputs": [
    {
     "name": "stdout",
     "output_type": "stream",
     "text": [
      "True\n"
     ]
    }
   ],
   "source": [
    "#117. WAS to check given value is present in collection.\n",
    "st='D'\n",
    "coll='PYSPIDERS'\n",
    "print(st in coll)"
   ]
  },
  {
   "cell_type": "code",
   "execution_count": 29,
   "metadata": {},
   "outputs": [
    {
     "name": "stdout",
     "output_type": "stream",
     "text": [
      "True\n",
      "True\n",
      "True\n"
     ]
    }
   ],
   "source": [
    "#118. WAE to check the given list is present in the list.\n",
    "a=[1,2]\n",
    "li=[1,2,[1,2],'hai',(10,20)]\n",
    "print(a in li)\n",
    "\n",
    "ch=(1,2)\n",
    "coll=(10,'hai',1,2,[1,2],(1,2))\n",
    "print(ch in coll)\n",
    "\n",
    "st=10\n",
    "col={10 ,'hai',(10,20),(10,'hai')}\n",
    "print(st in col)\n"
   ]
  },
  {
   "cell_type": "code",
   "execution_count": 30,
   "metadata": {},
   "outputs": [
    {
     "name": "stdout",
     "output_type": "stream",
     "text": [
      "True\n"
     ]
    }
   ],
   "source": [
    "#119. WAE to check the given dict value is present in tuple.\n",
    "d={'a':10}\n",
    "t=(10,20,30)\n",
    "print(d['a'] in t)"
   ]
  },
  {
   "cell_type": "code",
   "execution_count": 31,
   "metadata": {},
   "outputs": [
    {
     "name": "stdout",
     "output_type": "stream",
     "text": [
      "True\n"
     ]
    }
   ],
   "source": [
    "#120. WAE to check the given value is Integer or not.\n",
    "a=15\n",
    "print(type(a)==int)\n"
   ]
  },
  {
   "cell_type": "code",
   "execution_count": 32,
   "metadata": {},
   "outputs": [
    {
     "name": "stdout",
     "output_type": "stream",
     "text": [
      "True\n"
     ]
    }
   ],
   "source": [
    "#121. WAE to check the given value is string or not.\n",
    "a='ABCD'\n",
    "print(type(a)==str)"
   ]
  },
  {
   "cell_type": "code",
   "execution_count": 33,
   "metadata": {},
   "outputs": [
    {
     "name": "stdout",
     "output_type": "stream",
     "text": [
      "True\n"
     ]
    }
   ],
   "source": [
    "#122. WAE to check the value is single value or not.\n",
    "a=b'1010'\n",
    "print(type(a) in [int,float,complex,bytes,bool,type(None)])"
   ]
  },
  {
   "cell_type": "code",
   "execution_count": 34,
   "metadata": {},
   "outputs": [
    {
     "name": "stdout",
     "output_type": "stream",
     "text": [
      "False\n"
     ]
    }
   ],
   "source": [
    "#123. WAE to check the given value should not be single value.\n",
    "a=b'0101'\n",
    "print(type(a) not in [int,float,complex,bytes,bool,type(None)])\n"
   ]
  },
  {
   "cell_type": "code",
   "execution_count": 35,
   "metadata": {},
   "outputs": [
    {
     "name": "stdout",
     "output_type": "stream",
     "text": [
      "True\n"
     ]
    }
   ],
   "source": [
    "#124. WAE to check the given value is multivalue or not.\n",
    "a='helloworld'\n",
    "print(type(a) in [str,list,tuple,set,dict])\n"
   ]
  },
  {
   "cell_type": "code",
   "execution_count": 36,
   "metadata": {},
   "outputs": [
    {
     "name": "stdout",
     "output_type": "stream",
     "text": [
      "True\n"
     ]
    }
   ],
   "source": [
    "#125. WAE to check given value is a mutable value or not.\n",
    "a=[1,2]\n",
    "print(type(a) in [list,set,dict])"
   ]
  },
  {
   "cell_type": "code",
   "execution_count": 37,
   "metadata": {},
   "outputs": [
    {
     "name": "stdout",
     "output_type": "stream",
     "text": [
      "True\n"
     ]
    }
   ],
   "source": [
    "#126. WAE to check given value is a Immutable value or not.\n",
    "a=15.12\n",
    "print(type(a) in [int,float,complex,bytes,bool,type(None),str,tuple])\n"
   ]
  },
  {
   "cell_type": "code",
   "execution_count": 38,
   "metadata": {},
   "outputs": [
    {
     "name": "stdout",
     "output_type": "stream",
     "text": [
      "True\n"
     ]
    }
   ],
   "source": [
    "#127. WAE to check if a given value is divisible by 6 as well as that value present in collection or not.\n",
    "a=['123',36,'abc',(123),[3,4,5],98.34]\n",
    "b=36\n",
    "print(b%6==0 and b in a)"
   ]
  },
  {
   "cell_type": "code",
   "execution_count": 39,
   "metadata": {},
   "outputs": [
    {
     "name": "stdout",
     "output_type": "stream",
     "text": [
      "3\n"
     ]
    }
   ],
   "source": [
    "#128. WAE to check perform the BITWISE AND operator in given values are 15 and 19.\n",
    "a=15\n",
    "b=19\n",
    "print(15 & 19)"
   ]
  },
  {
   "cell_type": "code",
   "execution_count": 40,
   "metadata": {},
   "outputs": [
    {
     "name": "stdout",
     "output_type": "stream",
     "text": [
      "127\n"
     ]
    }
   ],
   "source": [
    "#129. WAE to check perform the BITWISE OR operator in given values are 115 and 79.\n",
    "a=115\n",
    "b=79\n",
    "print(115 | 79)"
   ]
  },
  {
   "cell_type": "code",
   "execution_count": 41,
   "metadata": {},
   "outputs": [
    {
     "name": "stdout",
     "output_type": "stream",
     "text": [
      "46\n"
     ]
    }
   ],
   "source": [
    "\n",
    "#130. WAE to check perform the BITWISE XOR operator in given values are 56 and 22.\n",
    "a=56\n",
    "b=22\n",
    "print(56 ^ 22)\n"
   ]
  },
  {
   "cell_type": "code",
   "execution_count": null,
   "metadata": {},
   "outputs": [],
   "source": [
    "#131. WAE to check perform the BITWISE NOT  operator in given values are 15.\n",
    "a=15\n",
    "print(~a)\n",
    "print(-(a+1))"
   ]
  },
  {
   "cell_type": "code",
   "execution_count": 42,
   "metadata": {},
   "outputs": [
    {
     "name": "stdout",
     "output_type": "stream",
     "text": [
      "256\n"
     ]
    }
   ],
   "source": [
    "#132. WAE to perform the BITWISE LEFT SHIFT with 32 and skipping value is 3.\n",
    "m=32\n",
    "n=3\n",
    "print(m<<3)"
   ]
  },
  {
   "cell_type": "code",
   "execution_count": 43,
   "metadata": {},
   "outputs": [
    {
     "name": "stdout",
     "output_type": "stream",
     "text": [
      "6\n"
     ]
    }
   ],
   "source": [
    "#133. WAE to perform the BITWISE RIGHT SHIFT with 25 and skipping value is 2.\n",
    "m=25\n",
    "n=2\n",
    "print(m>>2)"
   ]
  },
  {
   "cell_type": "code",
   "execution_count": 44,
   "metadata": {},
   "outputs": [],
   "source": [
    "#134. Find out the output of the given value condition.\n",
    "m=(10+20*60 and 10**3) or ({10,20} or not ([15-16]))"
   ]
  },
  {
   "cell_type": "code",
   "execution_count": 45,
   "metadata": {},
   "outputs": [
    {
     "name": "stdout",
     "output_type": "stream",
     "text": [
      "True\n",
      "True\n"
     ]
    }
   ],
   "source": [
    "#135. WAE to check a given key is present in dict or not.\n",
    "d={'a':10,'b':20,'c':30}\n",
    "k= 'a'\n",
    "print(k in d)\n",
    "#OR\n",
    "d={'a':10,'b':20,'c':30}\n",
    "k= 'a'\n",
    "print(k in d.keys())\n"
   ]
  },
  {
   "cell_type": "code",
   "execution_count": 46,
   "metadata": {},
   "outputs": [
    {
     "name": "stdout",
     "output_type": "stream",
     "text": [
      "False\n",
      "True\n"
     ]
    }
   ],
   "source": [
    "#136. WAE to check if a given value is present in dict or not.\n",
    "d={'a':10,'b':20,'c':30}\n",
    "k=10\n",
    "print(k in d)\n",
    "#so, upper equation is not possible for values.\n",
    "d={'a':10,'b':20,'c':30}\n",
    "k=10\n",
    "print(k in d.values())\n"
   ]
  },
  {
   "cell_type": "code",
   "execution_count": 47,
   "metadata": {},
   "outputs": [
    {
     "name": "stdout",
     "output_type": "stream",
     "text": [
      "False\n",
      "False\n"
     ]
    }
   ],
   "source": [
    "#137. WAE to check if a given key is not present in a dict or not.\n",
    "d={'a':10,'b':20,'c':30}\n",
    "k= 'a'\n",
    "print(k not in d)\n",
    "#OR\n",
    "d={'a':10,'b':20,'c':30}\n",
    "k= 'a'\n",
    "print(k not in d.keys())"
   ]
  },
  {
   "cell_type": "code",
   "execution_count": 48,
   "metadata": {},
   "outputs": [
    {
     "name": "stdout",
     "output_type": "stream",
     "text": [
      "True\n"
     ]
    }
   ],
   "source": [
    "#138. WAE to check if a key value pair present in dict or not.\n",
    "d={'a':10,'b':20,'c':30}\n",
    "k=('a',10)\n",
    "print(k in d.items())"
   ]
  },
  {
   "cell_type": "code",
   "execution_count": 49,
   "metadata": {},
   "outputs": [
    {
     "name": "stdout",
     "output_type": "stream",
     "text": [
      "True\n",
      "True\n"
     ]
    }
   ],
   "source": [
    "#139. WAE to check if two values are pointing the same memory or not.\n",
    "  #If values are present in between (-5 to 256) then it has same memory.\n",
    "print(25==25) #Here both values are int type so it is showing true.\n",
    "#OR\n",
    "a=25\n",
    "b=25\n",
    "print(a is b) #Here both values are int type and has same memory so i"
   ]
  },
  {
   "cell_type": "code",
   "execution_count": 52,
   "metadata": {},
   "outputs": [
    {
     "name": "stdout",
     "output_type": "stream",
     "text": [
      "True\n",
      "False\n"
     ]
    },
    {
     "data": {
      "text/plain": [
       "True"
      ]
     },
     "execution_count": 52,
     "metadata": {},
     "output_type": "execute_result"
    }
   ],
   "source": [
    "#140. WAE to check both values should be integer and both the values are pointing to the same address.\n",
    "a=256\n",
    "b=256\n",
    "print(type(a)==int and type(b)==int and a is b) #If values are present in between (-5 to 256) then it has same memory.\n",
    "a=260\n",
    "b=260\n",
    "print(type(a)==int and type(b)==int and a is b) #Here both values are int type and has different memory so it is showing false.\n",
    "True"
   ]
  }
 ],
 "metadata": {
  "kernelspec": {
   "display_name": "Python 3",
   "language": "python",
   "name": "python3"
  },
  "language_info": {
   "codemirror_mode": {
    "name": "ipython",
    "version": 3
   },
   "file_extension": ".py",
   "mimetype": "text/x-python",
   "name": "python",
   "nbconvert_exporter": "python",
   "pygments_lexer": "ipython3",
   "version": "3.11.4"
  },
  "orig_nbformat": 4
 },
 "nbformat": 4,
 "nbformat_minor": 2
}
